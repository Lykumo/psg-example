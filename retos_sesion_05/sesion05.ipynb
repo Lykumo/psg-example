{
 "cells": [
  {
   "cell_type": "markdown",
   "metadata": {},
   "source": [
    "# Sesión 05\n",
    "\n",
    "En esta sesión aprendimos sobre uno de los tipos de datos que son en este caso, los datos numéricos, donde vimos primeramente los conceptos de valores y variables.\n",
    "\n",
    "Para identificar el tipo de valor que estamos utilizando, usamos la función **type**\n",
    "*int nos indica que es un valor entero*\n"
   ]
  },
  {
   "cell_type": "code",
   "execution_count": 1,
   "metadata": {
    "metadata": {}
   },
   "outputs": [
    {
     "name": "stdout",
     "output_type": "stream",
     "text": [
      "<class 'int'>\n"
     ]
    }
   ],
   "source": [
    "print ( type (1) )"
   ]
  },
  {
   "cell_type": "markdown",
   "metadata": {},
   "source": [
    "Una variable es dar un nombre a un valor. Estos nombres: \n",
    "- Pueden contener tanto letras como números\n",
    "- No pueden comenzar con un número\n",
    "- No pueden contener espacios\n",
    "- Se puede utilizar mayúsculas como minúsculas\n",
    "- Se asigna un valor a una variable con el signo igual (=) después del nombre\n",
    "- Se puede utilizar el carácter barra baja (_) en un nombre\n",
    "- Puede empezar con un barra baja pero no se recomienda usarlo a menos que escribas una librería que utilizarán otros\n",
    "- No se debe usar nombres de palabras reservadas como variables en Python existen hasta el momento 33 palabras reservadas para su propio uso"
   ]
  },
  {
   "cell_type": "code",
   "execution_count": 3,
   "metadata": {
    "metadata": {}
   },
   "outputs": [
    {
     "name": "stdout",
     "output_type": "stream",
     "text": [
      "Salario calculado\n",
      "437.5\n"
     ]
    }
   ],
   "source": [
    "horas = 35.0\n",
    "tarifa = 12.50\n",
    "salario = horas * tarifa\n",
    "print (\"Salario calculado\")\n",
    "print(salario)"
   ]
  },
  {
   "cell_type": "markdown",
   "metadata": {},
   "source": [
    "Hay tres tipos de datos numéricos\n",
    "\n",
    "1. Integers (int)\n",
    "2. Floating (float)\n",
    "3. Números complejos (complex)\n",
    "\n",
    "### Número enteros \n",
    "Son números que no cuentan con parte decimal. En Python pueden ser declarados mediante diferentes formas y bases. De forma decimal, binaria, octal, hexadecimal, pero sin importar cual sea su base solo afecta a cómo se interpreta y muestra el número.\n",
    "\n",
    "*Los números enteros se declaran directamente en el código en valores y variables, de forma directa o utilizando el tipo int*"
   ]
  },
  {
   "cell_type": "code",
   "execution_count": 8,
   "metadata": {
    "metadata": {}
   },
   "outputs": [
    {
     "name": "stdout",
     "output_type": "stream",
     "text": [
      "10\n",
      "<class 'int'>\n",
      "Declarando el entero en variables\n",
      "100\n",
      "<class 'int'>\n",
      "Declarar usando la función int\n",
      "20\n",
      "<class 'int'>\n",
      "Podemos definir enteros en diferentes bases como binario, octal y hexadecimal\n",
      "Para estos se utilizan prefijos antes del número\n",
      "Base decimal\n",
      "10\n",
      "Base binaria\n",
      "10\n",
      "Base octal\n",
      "10\n",
      "Base hexadecimal\n",
      "10\n"
     ]
    }
   ],
   "source": [
    "# Valor 10 Entero\n",
    "print (10)\n",
    "print ( type (10) )\n",
    "\n",
    "# Variable 100 Entero\n",
    "variable = 100\n",
    "print (\"Declarando el entero en variables\")\n",
    "print (variable)\n",
    "print ( type (variable) )\n",
    "\n",
    "# Variable 20 Entero\n",
    "variable_2 = int (20)\n",
    "print (\"Declarar usando la función int\")\n",
    "print (variable_2)\n",
    "print ( type (variable_2) )\n",
    "\n",
    "# Valor 10 en base decimal\n",
    "print (\"Podemos definir enteros en diferentes bases como binario, octal y hexadecimal\")\n",
    "print (\"Para estos se utilizan prefijos antes del número\")\n",
    "print (\"Base decimal\")\n",
    "print (10)\n",
    "# Valor 10 en binario\n",
    "print (\"Base binaria\")\n",
    "print (0b1010)\n",
    "# Valor 10 en octal\n",
    "print (\"Base octal\")\n",
    "print (0o12)\n",
    "# Valor 10 en hexadecimal\n",
    "print (\"Base hexadecimal\")\n",
    "print (0xa)"
   ]
  },
  {
   "cell_type": "markdown",
   "metadata": {},
   "source": [
    "Podemos declarar enteros tan grandes como la memoria propia del sistema a diferencia de otros lenguajes que tiene un límite por tipo de dato."
   ]
  },
  {
   "cell_type": "code",
   "execution_count": 9,
   "metadata": {
    "metadata": {}
   },
   "outputs": [
    {
     "name": "stdout",
     "output_type": "stream",
     "text": [
      "123456789012345678901234567890123456789012345678901234567890\n",
      "<class 'int'>\n"
     ]
    }
   ],
   "source": [
    "# Entero con 60 dígitos\n",
    "variable_3 = 123456789012345678901234567890123456789012345678901234567890\n",
    "print (variable_3)\n",
    "print ( type (variable_3) )"
   ]
  },
  {
   "cell_type": "markdown",
   "metadata": {},
   "source": [
    "### Números con punto flotante\n",
    "Representan a los números reales tanto positivos como negativos, cuentan con una parte entera y una parte decimal.\n",
    "En python los números con coma o punto flotante son llamados \"float\"\n",
    "Posee precisión finita, tiene un límite en el cual no es posible representar tanta precisión decimal\n",
    "Se declaran directamente en el código en valores y variables de forma directa o utilizando el tipo float"
   ]
  },
  {
   "cell_type": "code",
   "execution_count": 13,
   "metadata": {
    "metadata": {}
   },
   "outputs": [
    {
     "name": "stdout",
     "output_type": "stream",
     "text": [
      "0.5\n",
      "<class 'float'>\n",
      "Declarando el float en variables\n",
      "0.100546\n",
      "<class 'float'>\n",
      "Declarar usando la función float\n",
      "1.0\n",
      "<class 'float'>\n",
      "0.9999999999999999\n",
      "<class 'float'>\n"
     ]
    }
   ],
   "source": [
    "# Valor 0.5 Flotante\n",
    "print (0.5)\n",
    "print ( type (0.5) )\n",
    "\n",
    "# Variable 0.100546 Flotante\n",
    "variable_4 = 0.100546\n",
    "print (\"Declarando el float en variables\")\n",
    "print (variable_4)\n",
    "print ( type (variable_4) )\n",
    "\n",
    "# Variable 1 Flotante\n",
    "variable_7 = float (1)\n",
    "print (\"Declarar usando la función float\")\n",
    "print(variable_7)\n",
    "print ( type (variable_7) )\n",
    "\n",
    "# Precisión de 17 decimales\n",
    "variable_5 = 0.9999999999999999\n",
    "print(variable_5)\n",
    "print ( type (variable_5) )\n"
   ]
  },
  {
   "cell_type": "markdown",
   "metadata": {},
   "source": [
    "# Operadores Aritméticos \n",
    "Símbolos especiales que representan cálculos, como la suma, la multiplicación y otros.\n",
    "\n",
    "* +: Suma\n",
    "* − : Resta\n",
    "* ∗ : Multiplicación\n",
    "* / : División\n",
    "* ∗∗ : Potencia\n",
    "* // : División entera\n",
    "* % : Módulo o residuo"
   ]
  },
  {
   "cell_type": "code",
   "execution_count": 1,
   "metadata": {},
   "outputs": [
    {
     "name": "stdout",
     "output_type": "stream",
     "text": [
      "Suma\n",
      "13\n",
      "Resta\n",
      "7\n",
      "Multiplicación\n",
      "30\n",
      "División\n",
      "3.3333333333333335\n",
      "Potencia\n",
      "1000\n",
      "Módulo o residuo\n",
      "1\n",
      "División entera\n",
      "3\n"
     ]
    }
   ],
   "source": [
    "\t# Operadores aritméticos\n",
    "a = 10\n",
    "b = 3\n",
    "# Suma\n",
    "print (\"Suma\")\n",
    "print (a + b)\n",
    "# Resta\n",
    "print (\"Resta\")\n",
    "print (a - b)\n",
    "# Multiplicación\n",
    "print (\"Multiplicación\")\n",
    "print (a * b)\n",
    "# División\n",
    "print (\"División\")\n",
    "print (a / b)\n",
    "# Potencia\n",
    "print (\"Potencia\")\n",
    "print (a ** b)\n",
    "# Módulo o residuo\n",
    "print (\"Módulo o residuo\")\n",
    "print (a % b)\n",
    "# División entera\n",
    "print (\"División entera\")\n",
    "print (a // b)"
   ]
  },
  {
   "cell_type": "markdown",
   "metadata": {},
   "source": [
    "# Operadores de Comparación\n",
    "\n",
    "Símbolos especiales que representan comparaciones, como igualdad y mayor que. Estos permiten comparar dos valores que no siempre necesitan ser del mismo tipo para ser comparados.\n",
    "\n",
    "* Estrictamente menor que : <\n",
    "* Estrictamente mayor que : >\n",
    "* Estrictamente igual que : ==\n",
    "* Menor o igual que : <=\n",
    "* Mayor o igual que : >=\n",
    "* Estrictamente diferente que : !=\n"
   ]
  },
  {
   "cell_type": "code",
   "execution_count": 3,
   "metadata": {},
   "outputs": [
    {
     "name": "stdout",
     "output_type": "stream",
     "text": [
      "Operadores de comparación\n",
      "False\n",
      "False\n",
      "True\n",
      "True\n",
      "True\n",
      "False\n",
      "Operadores de comparación int - float\n",
      "False\n",
      "False\n",
      "True\n",
      "True\n",
      "True\n",
      "False\n"
     ]
    }
   ],
   "source": [
    "print (\"Operadores de comparación\")\n",
    "comparar = 10\n",
    "print (comparar < 10)\n",
    "print (comparar > 10)\n",
    "print (comparar == 10)\n",
    "print (comparar <= 10)\n",
    "print (comparar >= 10)\n",
    "print (comparar != 10)\n",
    "\n",
    "print (\"Operadores de comparación int - float\")\n",
    "entero = 10\n",
    "flotante = 10.0\n",
    "print (entero < flotante)\n",
    "print (entero > flotante)\n",
    "print (entero == flotante)\n",
    "print (entero <= flotante)\n",
    "print (entero >= flotante)\n",
    "print (entero != flotante)"
   ]
  }
 ],
 "metadata": {
  "kernelspec": {
   "display_name": "Python 3",
   "language": "python",
   "name": "python3"
  },
  "language_info": {
   "codemirror_mode": {
    "name": "ipython",
    "version": 3
   },
   "file_extension": ".py",
   "mimetype": "text/x-python",
   "name": "python",
   "nbconvert_exporter": "python",
   "pygments_lexer": "ipython3",
   "version": "3.10.8"
  }
 },
 "nbformat": 4,
 "nbformat_minor": 2
}
