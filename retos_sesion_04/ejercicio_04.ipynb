{
 "cells": [
  {
   "cell_type": "markdown",
   "metadata": {},
   "source": [
    "# Juego Cubriendo Números\n",
    "\n",
    "El objetivo de este juego es cubrir todos los números de tu tabla con tus fichas antes que el oponente cubra el suyo.\n",
    "\n",
    "### Materiales necesarios:\n",
    "\n",
    "- Dos tableros con 6 cuadros numerados del 1 al 6.\n",
    "- Fichas de animales diferentes.\n",
    "- Un dado.\n"
   ]
  },
  {
   "cell_type": "markdown",
   "metadata": {},
   "source": [
    "### Reglas del juego:\n",
    "\n",
    "1. Ambos jugadores toman su propio tablero de 6 cuadros.\n",
    "2. Ambos jugadores eligen las fichas del animal que quieran y colocan todas sus fichas fuera del tablero.\n",
    "3. Decidan quién será el jugador inicial (pueden lanzar una moneda o usar cualquier otro método).\n",
    "4. El jugador inicial lanza el dado para determinar qué número le tocará cubrir en su tablero, usando la ficha de su animal elegido.\n",
    "5. Es el turno del otro jugador.\n",
    "6. Si un cuadro ya está ocupado por una ficha, el jugador puede pedirle a su oponente que retire la ficha del cuadro que tenga ese mismo número en el tablero del oponente, evitando que este pueda completar el llenado de su tablero antes que él. \n",
    "7. Los jugadores se turnan lanzando el dado y cubriendo los 6 cuadros de sus respectivos tableros con los números que le salen en el dado. hasta que un jugador haya cubierto todos los números de su tablero o hasta que no haya más movimientos posibles.\n",
    "8. El primer jugador en cubrir todos los números de su tablero gana.\n"
   ]
  },
  {
   "cell_type": "code",
   "execution_count": 5,
   "metadata": {},
   "outputs": [
    {
     "name": "stdout",
     "output_type": "stream",
     "text": [
      "- Tablero de seis cuadros\n",
      " *   *   *   *   *   *   *   *   *   *   *   *   *\n",
      " *               *               *               *\n",
      " *      1        *       2       *       3       *\n",
      " *               *               *               *\n",
      " *   *   *   *   *   *   *   *   *   *   *   *   *\n",
      " *               *               *               *\n",
      " *      4        *       5       *       6       *\n",
      " *               *               *               *\n",
      " *   *   *   *   *   *   *   *   *   *   *   *   *\n"
     ]
    }
   ],
   "source": [
    "# Tablero del juego Cubriendo números\n",
    "print (\"- Tablero de seis cuadros\")\n",
    "print (\" *   *   *   *   *   *   *   *   *   *   *   *   *\")  \n",
    "print (\" *               *               *               *\")\n",
    "print (\" *      1        *       2       *       3       *\")\n",
    "print (\" *               *               *               *\")\n",
    "print (\" *   *   *   *   *   *   *   *   *   *   *   *   *\") \n",
    "print (\" *               *               *               *\")\n",
    "print (\" *      4        *       5       *       6       *\")\n",
    "print (\" *               *               *               *\")\n",
    "print (\" *   *   *   *   *   *   *   *   *   *   *   *   *\") \n"
   ]
  },
  {
   "cell_type": "markdown",
   "metadata": {},
   "source": [
    "## Descripción de las fichas \n",
    "Las fichas con las que se cubriran los números de los tableros de cada jugador serán un juego de 6 fichas de un mismo animal.\n",
    "- Fichas de perritos.\n",
    "- Fichas de conejitos.\n",
    "Cada jugador puede tener 6 fichas del mismo animal."
   ]
  },
  {
   "cell_type": "code",
   "execution_count": 4,
   "metadata": {},
   "outputs": [
    {
     "name": "stdout",
     "output_type": "stream",
     "text": [
      "- Ficha de perrito\n",
      "   -._,-.\n",
      " \\/)..(\\/ \n",
      "  (_o_)\n",
      "   / \\)\n",
      " (|| ||)\n",
      "  oo-oo\n",
      "- Ficha de conejito\n",
      "  /)_/)\n",
      " ( . .)\n",
      "C(,,)(,,)\n"
     ]
    }
   ],
   "source": [
    "# Fichas para el uso de los jugadores en sus tableros.\n",
    "print (\"- Ficha de perrito\")\n",
    "\n",
    "print (\"   -._,-.\")\n",
    "print (\" \\/)..(\\/ \")\n",
    "print (\"  (_o_)\") \n",
    "print (\"   / \\)\")\n",
    "print (\" (|| ||)\")\n",
    "print (\"  oo-oo\")\n",
    "\n",
    "print (\"- Ficha de conejito\")\n",
    "\n",
    "print (\"  /)_/)\")\n",
    "print (\" ( . .)\")\n",
    "print (\"C(,,)(,,)\") \n"
   ]
  }
 ],
 "metadata": {
  "kernelspec": {
   "display_name": "Python 3",
   "language": "python",
   "name": "python3"
  },
  "language_info": {
   "codemirror_mode": {
    "name": "ipython",
    "version": 3
   },
   "file_extension": ".py",
   "mimetype": "text/x-python",
   "name": "python",
   "nbconvert_exporter": "python",
   "pygments_lexer": "ipython3",
   "version": "3.10.8"
  }
 },
 "nbformat": 4,
 "nbformat_minor": 2
}
